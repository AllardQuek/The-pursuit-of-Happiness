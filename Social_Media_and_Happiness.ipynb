{
 "cells": [
  {
   "cell_type": "code",
   "execution_count": null,
   "metadata": {
    "colab": {},
    "colab_type": "code",
    "id": "rTfZTQPK65uq"
   },
   "outputs": [],
   "source": [
    "import pandas as pd\n",
    "import numpy as np\n",
    "import seaborn as sns\n",
    "import matplotlib.pyplot as plt\n",
    "from scipy import stats"
   ]
  },
  {
   "cell_type": "code",
   "execution_count": null,
   "metadata": {
    "colab": {
     "base_uri": "https://localhost:8080/",
     "height": 935
    },
    "colab_type": "code",
    "id": "rzkrJASO7yzL",
    "outputId": "fc45d082-a633-4850-c25d-ed962df20faf"
   },
   "outputs": [],
   "source": [
    "uncleaned_df = pd.read_csv('Data/Happiness_Index.csv', encoding='ISO-8859-1')\n",
    "uncleaned_df"
   ]
  },
  {
   "cell_type": "code",
   "execution_count": null,
   "metadata": {
    "colab": {
     "base_uri": "https://localhost:8080/",
     "height": 694
    },
    "colab_type": "code",
    "id": "-mcrF7Km-7bP",
    "outputId": "79236701-db66-4719-9a25-f2963fb2b30b"
   },
   "outputs": [],
   "source": [
    "df = pd.read_excel('Data/Happiness_Index_cleaned.xlsx')\n",
    "df"
   ]
  },
  {
   "cell_type": "markdown",
   "metadata": {
    "colab_type": "text",
    "id": "hBxXJ3de_RY8"
   },
   "source": [
    "## Exploratory Data Analysis\n",
    "- happiness index\n",
    "- gender\n",
    "- age\n",
    "- hours_social_media_daily\n",
    "- num_of_social_media\n",
    "- num_of_friends_social_media"
   ]
  },
  {
   "cell_type": "code",
   "execution_count": null,
   "metadata": {
    "colab": {
     "base_uri": "https://localhost:8080/",
     "height": 788
    },
    "colab_type": "code",
    "id": "7_j7xQsE_oMO",
    "outputId": "82bfedbb-cc32-42b2-d7e4-7d422d5bb156"
   },
   "outputs": [],
   "source": [
    "df.info()"
   ]
  },
  {
   "cell_type": "code",
   "execution_count": null,
   "metadata": {
    "colab": {
     "base_uri": "https://localhost:8080/",
     "height": 312
    },
    "colab_type": "code",
    "id": "eFcp6060_q2r",
    "outputId": "64b48e8d-d2f0-4b23-dab9-5174957cdaf6"
   },
   "outputs": [],
   "source": [
    "df.describe()"
   ]
  },
  {
   "cell_type": "markdown",
   "metadata": {
    "colab_type": "text",
    "id": "QCWuDjO2Ce1A"
   },
   "source": [
    "Let's narrow down the dataset."
   ]
  },
  {
   "cell_type": "code",
   "execution_count": null,
   "metadata": {
    "colab": {
     "base_uri": "https://localhost:8080/",
     "height": 419
    },
    "colab_type": "code",
    "id": "uPN6P5CuBCiS",
    "outputId": "0a95414c-aafe-4857-d265-1c832bf8c3fd"
   },
   "outputs": [],
   "source": [
    "sub_df = df[['happiness_index', 'gender', 'age', 'hours_social_media_daily', 'num_of_social_media', 'num_of_friends_social_media']]\n",
    "sub_df"
   ]
  },
  {
   "cell_type": "code",
   "execution_count": null,
   "metadata": {
    "colab": {
     "base_uri": "https://localhost:8080/",
     "height": 136
    },
    "colab_type": "code",
    "id": "dp-JZMCw_cc6",
    "outputId": "6fd3ec82-c048-4791-c73c-63b8ac53d696"
   },
   "outputs": [],
   "source": [
    "sub_df.isnull().sum()"
   ]
  },
  {
   "cell_type": "code",
   "execution_count": null,
   "metadata": {
    "colab": {
     "base_uri": "https://localhost:8080/",
     "height": 1000
    },
    "colab_type": "code",
    "id": "WxRoU9-YAINV",
    "outputId": "2633f347-4803-46bc-c497-9240193a6e37"
   },
   "outputs": [],
   "source": [
    "sub_df[sub_df.isnull().any(axis=1)]     # View all rows with NaN values"
   ]
  },
  {
   "cell_type": "markdown",
   "metadata": {
    "colab_type": "text",
    "id": "_ggfYAJCqzRB"
   },
   "source": [
    "### Stopped to think\n",
    "Here we take a closer look at the mean, max and min of our data. Here are some things we noticed:\n",
    "\n",
    "1. mean age is around 24.5 years old; our sample size is pretty young in general\n",
    "2. max hours_social_media_daily is 24hrs (seems very unrealistic, so we assume that it is possible to spend time on multiple social media platforms at once)\n",
    "3. mean of num_of_friends_social_media is ~13,000; here we should be careful not to over-generalise this data as it could vary greatly based on country, platform, or other factors"
   ]
  },
  {
   "cell_type": "code",
   "execution_count": null,
   "metadata": {
    "colab": {
     "base_uri": "https://localhost:8080/",
     "height": 297
    },
    "colab_type": "code",
    "id": "p2pk1V8wBxjc",
    "outputId": "aaa03cea-fe84-4f90-f8cb-9fb874d5d740"
   },
   "outputs": [],
   "source": [
    "sub_df.describe()"
   ]
  },
  {
   "cell_type": "code",
   "execution_count": null,
   "metadata": {
    "colab": {
     "base_uri": "https://localhost:8080/",
     "height": 136
    },
    "colab_type": "code",
    "id": "qsL2SxpxAPde",
    "outputId": "c31fb077-2e38-464d-c561-59e3fe002008"
   },
   "outputs": [],
   "source": [
    "sub_df = sub_df.dropna()\n",
    "sub_df.isnull().sum()"
   ]
  },
  {
   "cell_type": "code",
   "execution_count": null,
   "metadata": {
    "colab": {
     "base_uri": "https://localhost:8080/",
     "height": 35
    },
    "colab_type": "code",
    "id": "tYcIdBYvAXkw",
    "outputId": "ab28d810-aad8-410c-e3ac-1d5959cc7fdb"
   },
   "outputs": [],
   "source": [
    "f\"We now have {sub_df.shape[0]} rows and {sub_df.shape[1]} columns.\""
   ]
  },
  {
   "cell_type": "code",
   "execution_count": null,
   "metadata": {
    "colab": {
     "base_uri": "https://localhost:8080/",
     "height": 359
    },
    "colab_type": "code",
    "id": "TFRv-ktjCllK",
    "outputId": "651991f6-60ce-4856-a93a-5dda8d2c9d0a"
   },
   "outputs": [],
   "source": [
    "sub_df.sample(10)"
   ]
  },
  {
   "cell_type": "code",
   "execution_count": null,
   "metadata": {
    "colab": {
     "base_uri": "https://localhost:8080/",
     "height": 280
    },
    "colab_type": "code",
    "id": "DutbxZChAaCL",
    "outputId": "c8efb29a-f350-4444-ede0-d96ec67eab91"
   },
   "outputs": [],
   "source": [
    "sns.set_style(\"darkgrid\")\n",
    "\n",
    "sns.distplot(sub_df['happiness_index'], kde=False, rug=True);"
   ]
  },
  {
   "cell_type": "code",
   "execution_count": null,
   "metadata": {
    "colab": {
     "base_uri": "https://localhost:8080/",
     "height": 297
    },
    "colab_type": "code",
    "id": "nEUMJtn7DQ40",
    "outputId": "60f46582-ad75-469e-f42f-ed82e430ca5d"
   },
   "outputs": [],
   "source": [
    "# kde is the kernel density estimation, which creates a smooth curve given a set of data \n",
    "sns.distplot(sub_df['happiness_index'])"
   ]
  },
  {
   "cell_type": "code",
   "execution_count": null,
   "metadata": {
    "colab": {
     "base_uri": "https://localhost:8080/",
     "height": 297
    },
    "colab_type": "code",
    "id": "YjXMeOclFPhW",
    "outputId": "46d101dd-340a-4452-fd9d-e0fa66902b3d"
   },
   "outputs": [],
   "source": [
    "# Someone uses social media for 24 hours daily?! ö\n",
    "sns.distplot(sub_df['hours_social_media_daily'])"
   ]
  },
  {
   "cell_type": "code",
   "execution_count": null,
   "metadata": {
    "colab": {
     "base_uri": "https://localhost:8080/",
     "height": 369
    },
    "colab_type": "code",
    "id": "ZppiV7kfFZC7",
    "outputId": "2476942e-bac0-4de2-ae48-1cae00e8cf1c"
   },
   "outputs": [],
   "source": [
    "sns.relplot(x=\"hours_social_media_daily\", y=\"happiness_index\", data=sub_df);"
   ]
  },
  {
   "cell_type": "markdown",
   "metadata": {
    "colab_type": "text",
    "id": "PtF5PCunIb4b"
   },
   "source": [
    "Let's plot a line graph with the confidence interval.\n",
    "The confidence interval (ci) is a range of values we are fairly sure our true value lies in (as represented by the shaded areas)\n"
   ]
  },
  {
   "cell_type": "markdown",
   "metadata": {},
   "source": [
    "### Hours Social Media Daily"
   ]
  },
  {
   "cell_type": "code",
   "execution_count": null,
   "metadata": {
    "colab": {
     "base_uri": "https://localhost:8080/",
     "height": 369
    },
    "colab_type": "code",
    "id": "MlC7OSvcGYqR",
    "outputId": "ef2c7348-bf63-4e0d-d109-6e22e76e412e",
    "scrolled": true
   },
   "outputs": [],
   "source": [
    "sns.relplot(x=\"hours_social_media_daily\", y=\"happiness_index\", kind='line', data=sub_df);"
   ]
  },
  {
   "cell_type": "markdown",
   "metadata": {
    "colab_type": "text",
    "id": "TrOc4PdFHdpg"
   },
   "source": [
    "- there is no confidence interval for hours > 5 because we only have 1 data point for them\n",
    "- for hours < 5, the confidence intervals are very wide as the happiness index observed could range from 3 to 10"
   ]
  },
  {
   "cell_type": "code",
   "execution_count": null,
   "metadata": {
    "colab": {
     "base_uri": "https://localhost:8080/",
     "height": 369
    },
    "colab_type": "code",
    "id": "WAsNxMs_HDCE",
    "outputId": "78fc49a6-f185-44e4-9d2e-8cb4440e9eac",
    "scrolled": true
   },
   "outputs": [],
   "source": [
    "sns.relplot(x=\"hours_social_media_daily\", y=\"happiness_index\", kind='line', ci=None, data=sub_df);"
   ]
  },
  {
   "cell_type": "code",
   "execution_count": null,
   "metadata": {},
   "outputs": [],
   "source": [
    "x = sub_df['hours_social_media_daily']\n",
    "y = sub_df['happiness_index']\n",
    "x.corr(y)   "
   ]
  },
  {
   "cell_type": "markdown",
   "metadata": {},
   "source": [
    "Looks like everyone spends about the same time on social media"
   ]
  },
  {
   "cell_type": "code",
   "execution_count": null,
   "metadata": {},
   "outputs": [],
   "source": [
    "sns.catplot(x='gender', y='hours_social_media_daily', data=sub_df);"
   ]
  },
  {
   "cell_type": "code",
   "execution_count": null,
   "metadata": {},
   "outputs": [],
   "source": [
    "plt.figure(figsize=(9,8))\n",
    "ax = sns.swarmplot(x=\"hours_social_media_daily\", y=\"happiness_index\", hue=\"gender\", data=sub_df)"
   ]
  },
  {
   "cell_type": "code",
   "execution_count": null,
   "metadata": {},
   "outputs": [],
   "source": [
    "plt.figure(figsize=(9,8))\n",
    "ax = sns.catplot(x=\"hours_social_media_daily\", y=\"happiness_index\", hue=\"gender\", data=sub_df)"
   ]
  },
  {
   "cell_type": "markdown",
   "metadata": {},
   "source": [
    "### Gender"
   ]
  },
  {
   "cell_type": "code",
   "execution_count": null,
   "metadata": {
    "colab": {
     "base_uri": "https://localhost:8080/",
     "height": 318
    },
    "colab_type": "code",
    "id": "MWK_4oiTGrda",
    "outputId": "0b644270-5e5c-4378-b846-d0fe15ce9e7a"
   },
   "outputs": [],
   "source": [
    "df.boxplot(by ='gender', column =['happiness_index'], grid = True) "
   ]
  },
  {
   "cell_type": "code",
   "execution_count": null,
   "metadata": {
    "colab": {
     "base_uri": "https://localhost:8080/",
     "height": 296
    },
    "colab_type": "code",
    "id": "r_e1azzhJh2w",
    "outputId": "21c71896-5713-4123-a061-72767a231836"
   },
   "outputs": [],
   "source": [
    "sns.set_style(\"whitegrid\") \n",
    "sns.boxplot(x='gender', y='happiness_index', data=sub_df)"
   ]
  },
  {
   "cell_type": "code",
   "execution_count": null,
   "metadata": {},
   "outputs": [],
   "source": [
    "males_df = sub_df[sub_df['gender'] == 'Male']\n",
    "females_df = sub_df[sub_df['gender'] == 'Female']\n",
    "\n",
    "print(males_df.head(), '\\n------------------------')\n",
    "print(females_df.head())"
   ]
  },
  {
   "cell_type": "code",
   "execution_count": null,
   "metadata": {},
   "outputs": [],
   "source": [
    "plt.figure()\n",
    "plt.figure(figsize=(10, 10))\n",
    "males_happiness = males_df['happiness_index']\n",
    "females_happiness = females_df['happiness_index']\n",
    "ax1 = sns.distplot(males_happiness)\n",
    "ax2 = sns.distplot(females_happiness)\n",
    "plt.axvline(np.mean(males_happiness), color='b', linestyle='dashed', linewidth=5, alpha=0.5)   # Add alpha for transparency\n",
    "plt.axvline(np.mean(males_happiness), color='orange', linestyle='dashed', linewidth=5, alpha=0.5)"
   ]
  },
  {
   "cell_type": "code",
   "execution_count": null,
   "metadata": {},
   "outputs": [],
   "source": [
    "# If we observe a large p-value, for example larger than 0.05 or 0.1, then we cannot reject the null hypothesis of identical average scores. If the p-value is smaller than the threshold, e.g. 1%, 5% or 10%, \n",
    "# then we reject the null hypothesis of equal averages.\n",
    "stat, p = stats.ttest_ind(males_happiness, females_happiness)\n",
    "print(f\"The stat is {stat} and the p-value is {p}\")"
   ]
  },
  {
   "cell_type": "markdown",
   "metadata": {},
   "source": [
    "### Learning Checkpoint 1\n",
    "\n",
    "Why is the p-value is so large?\n",
    "\n",
    "The larger the t score, the more difference there is between groups. The smaller the t score, the more similarity there is between groups.\n",
    "\n",
    "We expected the p-value to be small since there is barely any difference between the means of the males and females. What is the significance of the t-statistic (stat variable)?"
   ]
  },
  {
   "cell_type": "markdown",
   "metadata": {
    "colab_type": "text",
    "id": "fR6oERwVJ1xe"
   },
   "source": [
    "We noticed that seaborn and pandas plot boxplots differently, so we should be careful when choosing which libraries to use. Read the documentation!\n",
    "\n",
    "The medians for males and females remained the same at 7. However, the median was calculated to be 4 (pandas plot) and 5 (seaborn plot).\n",
    "\n",
    "In pandas, the error bar (top whisker) was longer, going up to index 10, but in seaborn, the error bar was only up to index 9 and the point with index 10 was considered an outlier. This means that both platforms likely used slightly different mathematical formulas to calculate the median, interquartile ranges and whisker plots. Same for the males, one outlier point was removed in the seaborn plot.\n",
    "\n",
    "While Pandas plot had interquartile (Q1-Q3) ranges for all categories, Seaborn plot also removed the interquartile range for 'I prefer not to tell' category."
   ]
  },
  {
   "cell_type": "code",
   "execution_count": null,
   "metadata": {},
   "outputs": [],
   "source": [
    "sub_df"
   ]
  },
  {
   "cell_type": "markdown",
   "metadata": {},
   "source": []
  },
  {
   "cell_type": "code",
   "execution_count": null,
   "metadata": {},
   "outputs": [],
   "source": [
    "sub_df.head()"
   ]
  },
  {
   "cell_type": "code",
   "execution_count": null,
   "metadata": {
    "scrolled": true
   },
   "outputs": [],
   "source": [
    "sub_df"
   ]
  },
  {
   "cell_type": "markdown",
   "metadata": {},
   "source": [
    "### Number of Social Media/Friends on Social Media"
   ]
  },
  {
   "cell_type": "code",
   "execution_count": null,
   "metadata": {},
   "outputs": [],
   "source": [
    "sns.scatterplot(data=sub_df, x=\"num_of_friends_social_media\", y=\"happiness_index\")"
   ]
  },
  {
   "cell_type": "code",
   "execution_count": null,
   "metadata": {},
   "outputs": [],
   "source": [
    "plt.figure()\n",
    "plt.figure(figsize=(10, 8))\n",
    "sns.scatterplot(data=sub_df, x=\"num_of_social_media\", y=\"happiness_index\")"
   ]
  },
  {
   "cell_type": "code",
   "execution_count": null,
   "metadata": {},
   "outputs": [],
   "source": [
    "data = sub_df\n",
    "x = sub_df['num_of_social_media']\n",
    "y = sub_df['happiness_index']"
   ]
  },
  {
   "cell_type": "code",
   "execution_count": null,
   "metadata": {},
   "outputs": [],
   "source": [
    "from scipy.stats import kde\n",
    "\n",
    "# Create a figure with 6 plot areas\n",
    "fig, axes = plt.subplots(ncols=3, nrows=1, figsize=(20, 8))\n",
    " \n",
    "# Everything starts with a Scatterplot\n",
    "axes[0].set_title('Scatterplot')\n",
    "axes[0].plot(x, y, 'ko')\n",
    "\n",
    "# Thus we can cut the plotting window in several hexbins\n",
    "nbins = 20\n",
    "axes[1].set_title('Hexbin')\n",
    "axes[1].hexbin(x, y, gridsize=nbins, cmap=plt.cm.BuGn_r)\n",
    " \n",
    "# 2D Histogram\n",
    "axes[2].set_title('2D Histogram')\n",
    "axes[2].hist2d(x, y, bins=nbins, cmap=plt.cm.BuGn_r)\n",
    " "
   ]
  },
  {
   "cell_type": "code",
   "execution_count": 95,
   "metadata": {},
   "outputs": [
    {
     "data": {
      "image/png": "[encoded data removed]",
      "text/plain": [
       "<Figure size 432x288 with 1 Axes>"
      ]
     },
     "metadata": {},
     "output_type": "display_data"
    },
    {
     "data": {
      "image/png": "[encoded data removed]",
      "text/plain": [
       "<Figure size 432x288 with 1 Axes>"
      ]
     },
     "metadata": {},
     "output_type": "display_data"
    },
    {
     "data": {
      "image/png": "[encoded data removed]",
      "text/plain": [
       "<Figure size 432x288 with 1 Axes>"
      ]
     },
     "metadata": {},
     "output_type": "display_data"
    },
    {
     "data": {
      "image/png": "[encoded data removed]",
      "text/plain": [
       "<Figure size 432x288 with 1 Axes>"
      ]
     },
     "metadata": {},
     "output_type": "display_data"
    }
   ],
   "source": [
    "# https://python-graph-gallery.com/1136-2/\n",
    "import seaborn as sns\n",
    "\n",
    "sns.kdeplot(x, y, cmap=\"jet\", shade=True)\n",
    "plt.show()\n",
    "\n",
    "# Basic 2D density plot - black contour lines only\n",
    "sns.set_style(\"darkgrid\")\n",
    "# recall (see above): kde is the kernel density estimation, which creates a smooth curve given a set of data \n",
    "sns.kdeplot(x, y)\n",
    "plt.show()\n",
    " \n",
    "# Custom it with the same argument as 1D density plot - red graph, with dots (density plot)\n",
    "sns.kdeplot(x, y, cmap=\"Reds\", shade=True, bw=.15)\n",
    "#bw is the smoothing parameter - i.e. whether we see distinct dots, or a smooth curve\n",
    "#while cmap represents the colour map, aka adding colours. Reds = diff hues of red, try cmap=\"mako\" for a beautiful color\n",
    "plt.show()\n",
    "\n",
    "# Some features are characteristic of 2D: color palette and wether or not color the lowest range - contours, but in blue\n",
    "sns.kdeplot(x, y, cmap=\"Blues\", shade=True, shade_lowest=True)\n",
    "plt.show()\n",
    "    \n",
    "\n"
   ]
  },
  {
   "cell_type": "code",
   "execution_count": 82,
   "metadata": {},
   "outputs": [
    {
     "data": {
      "image/png": "[encoded data removed]",
      "text/plain": [
       "<Figure size 720x576 with 1 Axes>"
      ]
     },
     "metadata": {},
     "output_type": "display_data"
    }
   ],
   "source": [
    "#This is a combination of the 1st and 2nd graph from above\n",
    "plt.figure(figsize=(10, 8))\n",
    "\n",
    "df = sns.load_dataset('iris')\n",
    " \n",
    "# Basic 2D density plot (contour only)\n",
    "sns.set_style(\"white\")\n",
    "sns.kdeplot(x, y)\n",
    " \n",
    "# Custom it with the same argument as 1D density plot (red histogram)\n",
    "sns.kdeplot(x, y, cmap=\"Reds\", shade=True, bw=.15)\n",
    "plt.show()"
   ]
  },
  {
   "cell_type": "code",
   "execution_count": null,
   "metadata": {},
   "outputs": [],
   "source": [
    "# https://python-graph-gallery.com/1136-2/\n",
    "plt.figure(figsize=(10, 8))\n",
    "\n",
    "# Basic 2D density plot\n",
    "sns.set_style(\"white\")\n",
    "sns.kdeplot(x, y)\n",
    "# plt.show()\n",
    "\n",
    "# Custom it with the same argument as 1D density plot\n",
    "sns.kdeplot(x, y, cmap=\"Reds\", shade=True, bw=.15)\n",
    "\n",
    "# Some features are characteristic of 2D: color palette and wether or not color the lowest range\n",
    "sns.kdeplot(x, y, cmap=\"Blues\", shade=True, shade_lowest=True, )\n",
    "plt.show()"
   ]
  },
  {
   "cell_type": "markdown",
   "metadata": {},
   "source": [
    "### Learning points\n",
    "1. What do the contours mean?\n",
    "Contour lines show where the density of points are the same! It's almost like a 3D plot, because the colour hues give another 'dimension' to the graph.\n",
    "2. What is KDE?\n",
    "KDE represents Kernal Density Estimation!\n",
    "3. cmap = colour map argument to colour the map\n",
    "Red, Blue, Mako, \n",
    "4. Why do contours look different on two different computers, though running the same code, data and using the same jupyter notebook?\n"
   ]
  },
  {
   "cell_type": "markdown",
   "metadata": {},
   "source": [
    "### TODO:\n",
    "- https://seaborn.pydata.org/generated/seaborn.pairplot.html"
   ]
  },
  {
   "cell_type": "code",
   "execution_count": null,
   "metadata": {},
   "outputs": [],
   "source": []
  }
 ],
 "metadata": {
  "colab": {
   "collapsed_sections": [],
   "name": "Social Media and Happiness.ipynb",
   "provenance": []
  },
  "kernelspec": {
   "display_name": "Python 3",
   "language": "python",
   "name": "python3"
  },
  "language_info": {
   "codemirror_mode": {
    "name": "ipython",
    "version": 3
   },
   "file_extension": ".py",
   "mimetype": "text/x-python",
   "name": "python",
   "nbconvert_exporter": "python",
   "pygments_lexer": "ipython3",
   "version": "3.8.3"
  }
 },
 "nbformat": 4,
 "nbformat_minor": 1
}
